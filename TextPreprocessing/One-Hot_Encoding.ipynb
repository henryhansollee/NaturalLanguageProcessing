{
 "cells": [
  {
   "cell_type": "code",
   "execution_count": 9,
   "id": "7593692f",
   "metadata": {},
   "outputs": [
    {
     "name": "stdout",
     "output_type": "stream",
     "text": [
      "[[0. 0. 1. 0. 0. 0. 0. 0.]\n",
      " [0. 0. 0. 0. 0. 1. 0. 0.]\n",
      " [0. 1. 0. 0. 0. 0. 0. 0.]\n",
      " [0. 0. 0. 0. 0. 0. 1. 0.]\n",
      " [0. 0. 0. 1. 0. 0. 0. 0.]\n",
      " [0. 0. 0. 0. 0. 0. 0. 1.]]\n"
     ]
    }
   ],
   "source": [
    "from konlpy.tag import Okt  \n",
    "from tensorflow.keras.preprocessing.text import Tokenizer\n",
    "from tensorflow.keras.utils import to_categorical\n",
    "\n",
    "\n",
    "okt = Okt()  \n",
    "tokens = okt.morphs(\"나는 자연어 처리를 배운다\")  \n",
    "# print(tokens)\n",
    "\n",
    "word_to_index = {word : index for index, word in enumerate(tokens)}\n",
    "# print('단어 집합 :',word_to_index)\n",
    "\n",
    "def one_hot_encoding(word, word_to_index):\n",
    "  one_hot_vector = [0]*(len(word_to_index))\n",
    "  index = word_to_index[word]\n",
    "  one_hot_vector[index] = 1\n",
    "  return one_hot_vector\n",
    "\n",
    "one_hot_encoding(\"자연어\", word_to_index)\n",
    "\n",
    "text = \"나랑 점심 먹으러 갈래 점심 메뉴는 햄버거 갈래 갈래 햄버거 최고야\"\n",
    "\n",
    "tokenizer = Tokenizer()\n",
    "tokenizer.fit_on_texts([text])\n",
    "# print('단어 집합 :',tokenizer.word_index)\n",
    "\n",
    "sub_text = \"점심 먹으러 갈래 메뉴는 햄버거 최고야\"\n",
    "encoded = tokenizer.texts_to_sequences([sub_text])[0]\n",
    "# print(encoded)\n",
    "\n",
    "one_hot = to_categorical(encoded)\n",
    "print(one_hot)"
   ]
  }
 ],
 "metadata": {
  "kernelspec": {
   "display_name": "Python 3 (ipykernel)",
   "language": "python",
   "name": "python3"
  },
  "language_info": {
   "codemirror_mode": {
    "name": "ipython",
    "version": 3
   },
   "file_extension": ".py",
   "mimetype": "text/x-python",
   "name": "python",
   "nbconvert_exporter": "python",
   "pygments_lexer": "ipython3",
   "version": "3.9.12"
  }
 },
 "nbformat": 4,
 "nbformat_minor": 5
}
